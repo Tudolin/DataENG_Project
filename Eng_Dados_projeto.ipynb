{
  "cells": [
    {
      "cell_type": "code",
      "execution_count": 2,
      "metadata": {
        "id": "aISHThX9RNXU"
      },
      "outputs": [],
      "source": [
        "import pandas as pd"
      ]
    },
    {
      "cell_type": "code",
      "execution_count": 3,
      "metadata": {
        "id": "y_mi76qunzNd"
      },
      "outputs": [],
      "source": [
        "df = pd.read_csv('./data/20191226-items.csv', sep=',')"
      ]
    },
    {
      "attachments": {},
      "cell_type": "markdown",
      "metadata": {
        "id": "Ps8lB_XLqUpk"
      },
      "source": [
        "**1- Coleta de dados.**\n"
      ]
    },
    {
      "cell_type": "code",
      "execution_count": 4,
      "metadata": {
        "colab": {
          "base_uri": "https://localhost:8080/"
        },
        "id": "tZoPcCPGn_WG",
        "outputId": "2f5e737a-5938-464b-8338-a2dcecac79f0"
      },
      "outputs": [
        {
          "name": "stdout",
          "output_type": "stream",
          "text": [
            "<class 'pandas.core.frame.DataFrame'>\n",
            "RangeIndex: 720 entries, 0 to 719\n",
            "Data columns (total 10 columns):\n",
            " #   Column         Non-Null Count  Dtype  \n",
            "---  ------         --------------  -----  \n",
            " 0   asin           720 non-null    object \n",
            " 1   brand          716 non-null    object \n",
            " 2   title          720 non-null    object \n",
            " 3   url            720 non-null    object \n",
            " 4   image          720 non-null    object \n",
            " 5   rating         720 non-null    float64\n",
            " 6   reviewUrl      720 non-null    object \n",
            " 7   totalReviews   720 non-null    int64  \n",
            " 8   price          720 non-null    float64\n",
            " 9   originalPrice  720 non-null    float64\n",
            "dtypes: float64(3), int64(1), object(6)\n",
            "memory usage: 56.4+ KB\n",
            "None\n"
          ]
        }
      ],
      "source": [
        "print(df.info())"
      ]
    },
    {
      "cell_type": "code",
      "execution_count": 5,
      "metadata": {
        "colab": {
          "base_uri": "https://localhost:8080/"
        },
        "id": "jAYLaXbqATBb",
        "outputId": "0a3d7a94-6599-4ce3-c2e9-0eaca5920a5b"
      },
      "outputs": [
        {
          "data": {
            "text/plain": [
              "Index(['asin', 'brand', 'title', 'url', 'image', 'rating', 'reviewUrl',\n",
              "       'totalReviews', 'price', 'originalPrice'],\n",
              "      dtype='object')"
            ]
          },
          "execution_count": 5,
          "metadata": {},
          "output_type": "execute_result"
        }
      ],
      "source": [
        "df.columns"
      ]
    },
    {
      "attachments": {},
      "cell_type": "markdown",
      "metadata": {
        "id": "1Wyt-TG8qf1S"
      },
      "source": [
        "**2- Limpeza de Dados**"
      ]
    },
    {
      "cell_type": "code",
      "execution_count": 6,
      "metadata": {
        "id": "LeQ0QwMw_MKn"
      },
      "outputs": [],
      "source": [
        "mapeamento_colunas = {\n",
        "    'brand': 'nm_marca',\n",
        "    'title': 'ds_produto',\n",
        "    'rating': 'media_avaliacao',\n",
        "    'totalReviews' : 'nm_avaliacao',\n",
        "    'price' : 'vlr_produto',\n",
        "}\n",
        "\n",
        "df.rename(columns=mapeamento_colunas, inplace=True)\n"
      ]
    },
    {
      "cell_type": "code",
      "execution_count": 7,
      "metadata": {
        "colab": {
          "base_uri": "https://localhost:8080/"
        },
        "id": "0MjVFJPeC1x6",
        "outputId": "4a8ea741-ba9f-494a-a71e-30f290b2108e"
      },
      "outputs": [
        {
          "name": "stdout",
          "output_type": "stream",
          "text": [
            "           asin  nm_marca                                         ds_produto   \n",
            "0    B0000SX2UC       NaN  Dual-Band / Tri-Mode Sprint PCS Phone w/ Voice...  \\\n",
            "1    B0009N5L7K  Motorola                                Motorola I265 phone   \n",
            "2    B000SKTZ0S  Motorola  MOTOROLA C168i AT&T CINGULAR PREPAID GOPHONE C...   \n",
            "3    B001AO4OUC  Motorola              Motorola i335 Cell Phone Boost Mobile   \n",
            "4    B001DCJAJG  Motorola      Motorola V365 no contract cellular phone AT&T   \n",
            "..          ...       ...                                                ...   \n",
            "715  B07ZPKZSSC     Apple  Apple iPhone 11 Pro, 64GB, Fully Unlocked - Sp...   \n",
            "716  B07ZQSGP53    Xiaomi  Xiaomi Redmi Note 8, 32GB/3GB RAM 6.3\" FHD+ Di...   \n",
            "717  B081H6STQQ      Sony  Sony Xperia 1 Unlocked Smartphone and WH1000XM...   \n",
            "718  B081TJFVCJ     Apple  Apple iPhone X, 64GB, Gray - Fully Unlocked (R...   \n",
            "719  B0825BB7SG   Samsung  Straight Talk Samsung Galaxy A10e Smartphone 5...   \n",
            "\n",
            "                                                   url   \n",
            "0    https://www.amazon.com/Dual-Band-Tri-Mode-Acti...  \\\n",
            "1    https://www.amazon.com/Motorola-i265-I265-phon...   \n",
            "2    https://www.amazon.com/MOTOROLA-C168i-CINGULAR...   \n",
            "3    https://www.amazon.com/Motorola-i335-Phone-Boo...   \n",
            "4    https://www.amazon.com/Motorola-V365-contract-...   \n",
            "..                                                 ...   \n",
            "715  https://www.amazon.com/Apple-iPhone-64GB-Fully...   \n",
            "716  https://www.amazon.com/Xiaomi-Display-Snapdrag...   \n",
            "717  https://www.amazon.com/Sony-Smartphone-WH1000X...   \n",
            "718  https://www.amazon.com/Apple-iPhone-64GB-Gray-...   \n",
            "719  https://www.amazon.com/Straight-Samsung-Galaxy...   \n",
            "\n",
            "                                                 image  media_avaliacao   \n",
            "0    https://m.media-amazon.com/images/I/2143EBQ210...              3.0  \\\n",
            "1    https://m.media-amazon.com/images/I/419WBAVDAR...              3.0   \n",
            "2    https://m.media-amazon.com/images/I/71b+q3ydkI...              2.7   \n",
            "3    https://m.media-amazon.com/images/I/710UO8gdT+...              3.3   \n",
            "4    https://m.media-amazon.com/images/I/61LYNCVrrK...              3.1   \n",
            "..                                                 ...              ...   \n",
            "715  https://m.media-amazon.com/images/I/41wDuEW9iZ...              1.0   \n",
            "716  https://m.media-amazon.com/images/I/41foh4FKHE...              4.6   \n",
            "717  https://m.media-amazon.com/images/I/51zZTAXZTP...              4.5   \n",
            "718  https://m.media-amazon.com/images/I/71yMgOenT5...              5.0   \n",
            "719  https://m.media-amazon.com/images/I/81+3SWSAhD...              5.0   \n",
            "\n",
            "                                             reviewUrl  nm_avaliacao   \n",
            "0    https://www.amazon.com/product-reviews/B0000SX2UC            14  \\\n",
            "1    https://www.amazon.com/product-reviews/B0009N5L7K             7   \n",
            "2    https://www.amazon.com/product-reviews/B000SKTZ0S            22   \n",
            "3    https://www.amazon.com/product-reviews/B001AO4OUC            21   \n",
            "4    https://www.amazon.com/product-reviews/B001DCJAJG            12   \n",
            "..                                                 ...           ...   \n",
            "715  https://www.amazon.com/product-reviews/B07ZPKZSSC             1   \n",
            "716  https://www.amazon.com/product-reviews/B07ZQSGP53             3   \n",
            "717  https://www.amazon.com/product-reviews/B081H6STQQ            70   \n",
            "718  https://www.amazon.com/product-reviews/B081TJFVCJ             1   \n",
            "719  https://www.amazon.com/product-reviews/B0825BB7SG             1   \n",
            "\n",
            "     vlr_produto  originalPrice  \n",
            "0           0.00           0.00  \n",
            "1          49.95           0.00  \n",
            "2          99.99           0.00  \n",
            "3           0.00           0.00  \n",
            "4         149.99           0.00  \n",
            "..           ...            ...  \n",
            "715       949.00           0.00  \n",
            "716       150.96           0.00  \n",
            "717       948.00           0.00  \n",
            "718       478.97           0.00  \n",
            "719       139.00         139.26  \n",
            "\n",
            "[720 rows x 10 columns]\n"
          ]
        }
      ],
      "source": [
        "print(df)"
      ]
    },
    {
      "cell_type": "code",
      "execution_count": 8,
      "metadata": {
        "id": "i2aHZMxPoq5H"
      },
      "outputs": [],
      "source": [
        "df = df.drop(['asin', 'url', 'image', 'reviewUrl', 'originalPrice',], axis=1)"
      ]
    },
    {
      "attachments": {},
      "cell_type": "markdown",
      "metadata": {
        "id": "IdP1fJvApmo9"
      },
      "source": [
        "Verificar valores ausentes/duplicados."
      ]
    },
    {
      "cell_type": "code",
      "execution_count": 9,
      "metadata": {
        "colab": {
          "base_uri": "https://localhost:8080/"
        },
        "id": "yVko5wEspeaS",
        "outputId": "b6989fdd-175a-46b5-fea3-72b0d2b3b4d1"
      },
      "outputs": [
        {
          "name": "stdout",
          "output_type": "stream",
          "text": [
            "nm_marca           4\n",
            "ds_produto         0\n",
            "media_avaliacao    0\n",
            "nm_avaliacao       0\n",
            "vlr_produto        0\n",
            "dtype: int64\n"
          ]
        }
      ],
      "source": [
        "print(df.isnull().sum())"
      ]
    },
    {
      "cell_type": "code",
      "execution_count": 10,
      "metadata": {
        "id": "ZaGf2J-ApxMf"
      },
      "outputs": [],
      "source": [
        "df['nm_marca'].fillna(\"Vazio\", inplace=True)"
      ]
    },
    {
      "cell_type": "code",
      "execution_count": 11,
      "metadata": {
        "id": "Houn-hnqqHG0"
      },
      "outputs": [],
      "source": [
        "df.drop_duplicates(inplace=True)\n"
      ]
    },
    {
      "attachments": {},
      "cell_type": "markdown",
      "metadata": {
        "id": "D6RfM3Ms_Ulv"
      },
      "source": [
        "**3- Aplicando filtros e condicionais**"
      ]
    },
    {
      "cell_type": "code",
      "execution_count": 12,
      "metadata": {
        "id": "VsKHE7qV_T8K"
      },
      "outputs": [],
      "source": [
        "df_rankList = df.sort_values('media_avaliacao', ascending=False)\n"
      ]
    },
    {
      "cell_type": "code",
      "execution_count": 13,
      "metadata": {
        "id": "S2U73l4FEM0L"
      },
      "outputs": [],
      "source": [
        "filtro_nm_av = (df_rankList['nm_avaliacao'] > 15)"
      ]
    },
    {
      "cell_type": "code",
      "execution_count": 14,
      "metadata": {
        "id": "uGdEBS3rU9R8"
      },
      "outputs": [],
      "source": [
        "df_rankList_filtrado = df_rankList[filtro_nm_av]"
      ]
    },
    {
      "cell_type": "code",
      "execution_count": 15,
      "metadata": {
        "id": "As7rG4wyVybk"
      },
      "outputs": [],
      "source": [
        "df_rankList_top20 = df_rankList_filtrado.head(20)"
      ]
    },
    {
      "attachments": {},
      "cell_type": "markdown",
      "metadata": {
        "id": "od_Yzhhc8G3x"
      },
      "source": [
        "# **4- Salvando o arquivo**"
      ]
    },
    {
      "cell_type": "code",
      "execution_count": 16,
      "metadata": {
        "id": "joyYsDpW3Nmo"
      },
      "outputs": [],
      "source": [
        "#df.to_csv('/content/drive/MyDrive/Colab Notebooks/Dados_filtrados.csv', index = False)"
      ]
    },
    {
      "cell_type": "code",
      "execution_count": 17,
      "metadata": {
        "id": "dZgO6-w-GP-t"
      },
      "outputs": [],
      "source": [
        "df_rankList_top20.to_csv('./Top20_Celulares.csv', index = False)"
      ]
    }
  ],
  "metadata": {
    "colab": {
      "provenance": []
    },
    "kernelspec": {
      "display_name": "Python 3",
      "name": "python3"
    },
    "language_info": {
      "codemirror_mode": {
        "name": "ipython",
        "version": 3
      },
      "file_extension": ".py",
      "mimetype": "text/x-python",
      "name": "python",
      "nbconvert_exporter": "python",
      "pygments_lexer": "ipython3",
      "version": "3.11.3"
    }
  },
  "nbformat": 4,
  "nbformat_minor": 0
}
